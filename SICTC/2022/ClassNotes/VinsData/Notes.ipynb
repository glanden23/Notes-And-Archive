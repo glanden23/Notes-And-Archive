{
 "cells": [
  {
   "cell_type": "markdown",
   "id": "603a74bb",
   "metadata": {},
   "source": [
    "# Import File and Needed Libraries\n",
    "The file we are importing is a class that we created to reformat our vins. In a vin, there are 3 main sections:\n",
    "- wmi = first 3\n",
    "- vds = second 6\n",
    "- ser = remaining items\n",
    "\n",
    "\"vin.csv\" is our original data"
   ]
  },
  {
   "cell_type": "code",
   "execution_count": 4,
   "id": "74603560",
   "metadata": {},
   "outputs": [],
   "source": [
    "from vin import *\n",
    "\n",
    "data = open(\"./vins.csv\").readlines()\n",
    "\n",
    "for i in range(len(data)):\n",
    "    data[i] = VIN(data[i].rstrip())"
   ]
  },
  {
   "cell_type": "code",
   "execution_count": 5,
   "id": "1c2fafd0",
   "metadata": {},
   "outputs": [],
   "source": [
    "def vMapEnc(vin):\n",
    "    vmap=\"0123456789ABCDEFGHIJKLMNOPQRSTUVWXYZ\"\n",
    "    vrad=0\n",
    "    for v in range(len(vin)):\n",
    "        coe = vmap.index(vin[v])\n",
    "        exp = len(vin)-1-v\n",
    "        vrad+=coe*34**exp\n",
    "    return vrad"
   ]
  },
  {
   "cell_type": "code",
   "execution_count": 6,
   "id": "6a2eacc6",
   "metadata": {},
   "outputs": [],
   "source": [
    "for v in data:\n",
    "    vMapEnc(v.wmi+v.vds+v.ser)"
   ]
  }
 ],
 "metadata": {
  "kernelspec": {
   "display_name": "Python 3 (ipykernel)",
   "language": "python",
   "name": "python3"
  },
  "language_info": {
   "codemirror_mode": {
    "name": "ipython",
    "version": 3
   },
   "file_extension": ".py",
   "mimetype": "text/x-python",
   "name": "python",
   "nbconvert_exporter": "python",
   "pygments_lexer": "ipython3",
   "version": "3.9.7"
  }
 },
 "nbformat": 4,
 "nbformat_minor": 5
}
