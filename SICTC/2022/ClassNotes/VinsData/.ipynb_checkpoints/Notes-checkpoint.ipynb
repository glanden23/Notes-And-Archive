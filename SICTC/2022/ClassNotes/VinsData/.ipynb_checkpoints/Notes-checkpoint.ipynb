{
 "cells": [
  {
   "cell_type": "code",
   "execution_count": 2,
   "id": "74603560",
   "metadata": {},
   "outputs": [],
   "source": [
    "data = open(\"./vins.csv\").readlines()\n",
    "\n",
    "for i in data:\n",
    "    if \"IOQ\" in i:\n",
    "        print(i)"
   ]
  },
  {
   "cell_type": "markdown",
   "id": "997ca827",
   "metadata": {},
   "source": [
    "No data was found to contain \"IOQ\". Vins can't contain this."
   ]
  },
  {
   "cell_type": "code",
   "execution_count": null,
   "id": "4b2cc76f",
   "metadata": {},
   "outputs": [],
   "source": [
    "import vin as *\n",
    "\n",
    "vin."
   ]
  }
 ],
 "metadata": {
  "kernelspec": {
   "display_name": "Python 3 (ipykernel)",
   "language": "python",
   "name": "python3"
  },
  "language_info": {
   "codemirror_mode": {
    "name": "ipython",
    "version": 3
   },
   "file_extension": ".py",
   "mimetype": "text/x-python",
   "name": "python",
   "nbconvert_exporter": "python",
   "pygments_lexer": "ipython3",
   "version": "3.9.7"
  }
 },
 "nbformat": 4,
 "nbformat_minor": 5
}
