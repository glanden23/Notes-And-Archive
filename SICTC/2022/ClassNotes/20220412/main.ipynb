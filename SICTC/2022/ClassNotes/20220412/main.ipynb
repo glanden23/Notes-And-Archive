{
 "cells": [
  {
   "cell_type": "markdown",
   "metadata": {},
   "source": [
    "printAmount - How much should the program print out?"
   ]
  },
  {
   "cell_type": "code",
   "execution_count": 53,
   "metadata": {},
   "outputs": [],
   "source": [
    "printAmount = 99\n",
    "\n",
    "#Needed variables\n",
    "output = []\n",
    "tempList=[]"
   ]
  },
  {
   "cell_type": "markdown",
   "metadata": {},
   "source": [
    "This will create a list called output that has each one of the numbers the user request in a 2d list.\n",
    "<br>Example [[\"1\",\"2\",\"3\",\"4\",\"5\",\"6\",\"7\",\"8\",\"9\"]]<br>\n",
    "This will also add a 0 in front of some numbers to trying to align all numbers when printing.\n",
    "<br>Also, numbers are converted to strings after this is completed."
   ]
  },
  {
   "cell_type": "code",
   "execution_count": 54,
   "metadata": {},
   "outputs": [],
   "source": [
    "for i in range(printAmount+1):\n",
    "    if i % 10 == 0 and i != 0 or i == printAmount:\n",
    "        if i == printAmount:\n",
    "            tempList.append(str(printAmount))\n",
    "        output.append(tempList)\n",
    "        tempList = []\n",
    "    length = len(str(printAmount))\n",
    "    strLen = len(str(i))\n",
    "    if strLen < length:\n",
    "        tempList.append((\"0\"*(length-strLen))+str(i))\n",
    "    else:\n",
    "        tempList.append(str(i))\n",
    "\n",
    "#Clean up\n",
    "del tempList"
   ]
  },
  {
   "cell_type": "markdown",
   "metadata": {},
   "source": [
    "Spaces numbers in output list before printing."
   ]
  },
  {
   "cell_type": "code",
   "execution_count": 55,
   "metadata": {},
   "outputs": [
    {
     "name": "stdout",
     "output_type": "stream",
     "text": [
      "00 01 02 03 04 05 06 07 08 09\n",
      "10 11 12 13 14 15 16 17 18 19\n",
      "20 21 22 23 24 25 26 27 28 29\n",
      "30 31 32 33 34 35 36 37 38 39\n",
      "40 41 42 43 44 45 46 47 48 49\n",
      "50 51 52 53 54 55 56 57 58 59\n",
      "60 61 62 63 64 65 66 67 68 69\n",
      "70 71 72 73 74 75 76 77 78 79\n",
      "80 81 82 83 84 85 86 87 88 89\n",
      "90 91 92 93 94 95 96 97 98 99\n"
     ]
    }
   ],
   "source": [
    "for i in output:\n",
    "    i = \" \".join(i)\n",
    "    print(i)"
   ]
  }
 ],
 "metadata": {
  "interpreter": {
   "hash": "1db6bb76b030d4d858b6765eb11e4fec503fc7b82e10045cc12d7875486b82c7"
  },
  "kernelspec": {
   "display_name": "Python 3.9.7 64-bit",
   "language": "python",
   "name": "python3"
  },
  "language_info": {
   "codemirror_mode": {
    "name": "ipython",
    "version": 3
   },
   "file_extension": ".py",
   "mimetype": "text/x-python",
   "name": "python",
   "nbconvert_exporter": "python",
   "pygments_lexer": "ipython3",
   "version": "3.9.7"
  },
  "orig_nbformat": 4
 },
 "nbformat": 4,
 "nbformat_minor": 2
}
