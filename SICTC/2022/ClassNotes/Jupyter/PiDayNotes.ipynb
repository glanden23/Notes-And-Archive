{
 "cells": [
  {
   "cell_type": "code",
   "execution_count": 1033,
   "id": "b14a9b0e",
   "metadata": {},
   "outputs": [
    {
     "name": "stdout",
     "output_type": "stream",
     "text": [
      "Control+Enter will run this cell.\n"
     ]
    }
   ],
   "source": [
    "print(\"Control+Enter will run this cell.\")"
   ]
  },
  {
   "cell_type": "code",
   "execution_count": 1034,
   "id": "05f74caf",
   "metadata": {},
   "outputs": [
    {
     "name": "stdout",
     "output_type": "stream",
     "text": [
      "Alt+Enter will create a new cell.\n"
     ]
    }
   ],
   "source": [
    "print(\"Alt+Enter will create a new cell.\")"
   ]
  },
  {
   "cell_type": "code",
   "execution_count": 1035,
   "id": "92bdce73",
   "metadata": {},
   "outputs": [
    {
     "name": "stdout",
     "output_type": "stream",
     "text": [
      "Shift+Enter will run and create a new cell.\n"
     ]
    }
   ],
   "source": [
    "print(\"Shift+Enter will run and create a new cell.\")"
   ]
  },
  {
   "cell_type": "markdown",
   "id": "f4b15129",
   "metadata": {},
   "source": [
    "**Hello World! This is Markdown!**\n",
    "\n",
    "~~Test~~\n",
    "\n",
    "# This a header tag\n",
    "<h1>\n",
    "    test!\n",
    "</h1>"
   ]
  },
  {
   "cell_type": "code",
   "execution_count": 1041,
   "id": "aefad069",
   "metadata": {},
   "outputs": [
    {
     "data": {
      "text/plain": [
       "50.26548245743669"
      ]
     },
     "execution_count": 1041,
     "metadata": {},
     "output_type": "execute_result"
    }
   ],
   "source": [
    "import math\n",
    "\n",
    "16*math.pi"
   ]
  },
  {
   "cell_type": "code",
   "execution_count": 1046,
   "id": "fe2f6ce9",
   "metadata": {},
   "outputs": [
    {
     "name": "stdout",
     "output_type": "stream",
     "text": [
      "3.141592653589793\n"
     ]
    }
   ],
   "source": [
    "import math\n",
    "\n",
    "print(math.pi)"
   ]
  },
  {
   "cell_type": "code",
   "execution_count": 1052,
   "id": "99d8d19f",
   "metadata": {},
   "outputs": [],
   "source": [
    "def createPiDigit(reps):\n",
    "    i=2\n",
    "    op=1\n",
    "    result=0\n",
    "    for i in range(2,2*reps+1,2):\n",
    "        result+=4/(i*(i+1)*(i+2)*op)\n",
    "        op*=-1\n",
    "    return 3+result"
   ]
  },
  {
   "cell_type": "code",
   "execution_count": 1055,
   "id": "a94a2f92",
   "metadata": {},
   "outputs": [
    {
     "name": "stdout",
     "output_type": "stream",
     "text": [
      "3.1415924109719806\n"
     ]
    }
   ],
   "source": [
    "print(createPiDigit(100))"
   ]
  },
  {
   "cell_type": "code",
   "execution_count": 1074,
   "id": "bafade89",
   "metadata": {},
   "outputs": [],
   "source": [
    "def getPiDigit(index):\n",
    "    return round(4/((2+index)*(3+index)*(4+index)) - 4/((2+(index+1))*(3+(index+1))*(4+(index+1))),index+1)"
   ]
  },
  {
   "cell_type": "code",
   "execution_count": 1077,
   "id": "27280279",
   "metadata": {},
   "outputs": [
    {
     "name": "stdout",
     "output_type": "stream",
     "text": [
      "0.03\n"
     ]
    }
   ],
   "source": [
    "print(getPiDigit(1))"
   ]
  },
  {
   "cell_type": "code",
   "execution_count": null,
   "id": "bdf000e0",
   "metadata": {},
   "outputs": [],
   "source": []
  }
 ],
 "metadata": {
  "kernelspec": {
   "display_name": "Python 3 (ipykernel)",
   "language": "python",
   "name": "python3"
  },
  "language_info": {
   "codemirror_mode": {
    "name": "ipython",
    "version": 3
   },
   "file_extension": ".py",
   "mimetype": "text/x-python",
   "name": "python",
   "nbconvert_exporter": "python",
   "pygments_lexer": "ipython3",
   "version": "3.9.7"
  }
 },
 "nbformat": 4,
 "nbformat_minor": 5
}
